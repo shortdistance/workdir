{
 "cells": [
  {
   "cell_type": "code",
   "execution_count": 4,
   "metadata": {
    "collapsed": false
   },
   "outputs": [
    {
     "name": "stdout",
     "output_type": "stream",
     "text": [
      "windows\n",
      "windows\n",
      "False\n",
      "True\n"
     ]
    }
   ],
   "source": [
    "from util import platform\n",
    "\n",
    "print platform.get_platform_name()\n",
    "\n",
    "print platform.__platform__\n",
    "\n",
    "print platform.is_linux()\n",
    "print platform.is_windows()"
   ]
  },
  {
   "cell_type": "code",
   "execution_count": 10,
   "metadata": {
    "collapsed": false
   },
   "outputs": [
    {
     "name": "stdout",
     "output_type": "stream",
     "text": [
      "123\n",
      "True\n"
     ]
    }
   ],
   "source": [
    "class O(object):pass\n",
    "\n",
    "o = O()\n",
    "setattr(o, \"helloworld\",123)\n",
    "print getattr(o, \"helloworld\", None)\n",
    "print getattr(o, \"hi\", None) is None\n",
    "\n",
    "def has_attribute(ob, attribute):\n",
    "    "
   ]
  },
  {
   "cell_type": "code",
   "execution_count": null,
   "metadata": {
    "collapsed": true
   },
   "outputs": [],
   "source": []
  },
  {
   "cell_type": "code",
   "execution_count": null,
   "metadata": {
    "collapsed": true
   },
   "outputs": [],
   "source": []
  },
  {
   "cell_type": "code",
   "execution_count": null,
   "metadata": {
    "collapsed": true
   },
   "outputs": [],
   "source": []
  }
 ],
 "metadata": {
  "kernelspec": {
   "display_name": "Python 2",
   "language": "python",
   "name": "python2"
  },
  "language_info": {
   "codemirror_mode": {
    "name": "ipython",
    "version": 2
   },
   "file_extension": ".py",
   "mimetype": "text/x-python",
   "name": "python",
   "nbconvert_exporter": "python",
   "pygments_lexer": "ipython2",
   "version": "2.7.7"
  }
 },
 "nbformat": 4,
 "nbformat_minor": 0
}
